{
  "nbformat": 4,
  "nbformat_minor": 0,
  "metadata": {
    "colab": {
      "name": "Copy of Python Prog Assignment 2.ipynb",
      "provenance": [],
      "include_colab_link": true
    },
    "kernelspec": {
      "name": "python3",
      "display_name": "Python 3"
    }
  },
  "cells": [
    {
      "cell_type": "markdown",
      "metadata": {
        "id": "view-in-github",
        "colab_type": "text"
      },
      "source": [
        "<a href=\"https://colab.research.google.com/github/Suchitraheggade/M-L-Laboratory/blob/master/Python_Prog_Assignment_2.ipynb\" target=\"_parent\"><img src=\"https://colab.research.google.com/assets/colab-badge.svg\" alt=\"Open In Colab\"/></a>"
      ]
    },
    {
      "cell_type": "markdown",
      "metadata": {
        "id": "O1X-yDQJhN1s",
        "colab_type": "text"
      },
      "source": [
        "# Write a Python program to count the occurrences of each word in a given sentence.\n"
      ]
    },
    {
      "cell_type": "code",
      "metadata": {
        "id": "bJ11uiIJhZ4L",
        "colab_type": "code",
        "colab": {
          "base_uri": "https://localhost:8080/",
          "height": 51
        },
        "outputId": "9cb85ca3-ec40-44e7-c902-14690be36ccf"
      },
      "source": [
        "def word_count(str):\n",
        "    counts = dict()\n",
        "    words = str.split()\n",
        "\n",
        "    for word in words:\n",
        "        if word in counts:\n",
        "            counts[word] += 1\n",
        "        else:\n",
        "            counts[word] = 1\n",
        "\n",
        "    return counts\n",
        "inp=input(\"Enter sentence : \")\n",
        "print( word_count(inp))"
      ],
      "execution_count": null,
      "outputs": [
        {
          "output_type": "stream",
          "text": [
            "Enter sentence : the quick brown fox jumps over the lazy dog\n",
            "{'the': 2, 'quick': 1, 'brown': 1, 'fox': 1, 'jumps': 1, 'over': 1, 'lazy': 1, 'dog': 1}\n"
          ],
          "name": "stdout"
        }
      ]
    },
    {
      "cell_type": "markdown",
      "metadata": {
        "id": "8D_oi7eYiULS",
        "colab_type": "text"
      },
      "source": [
        "# Write a Python program to remove duplicates from a list"
      ]
    },
    {
      "cell_type": "code",
      "metadata": {
        "id": "B-T4QK0tiVg5",
        "colab_type": "code",
        "colab": {
          "base_uri": "https://localhost:8080/",
          "height": 51
        },
        "outputId": "4332690a-1b02-4882-dd67-c5917b28aaa0"
      },
      "source": [
        "a = [10,20,30,20,10,50,60,40,80,50,40]\n",
        "dup_items = set()\n",
        "uniq_items = []\n",
        "for x in a:\n",
        "  if x not in dup_items:\n",
        "\t  uniq_items.append(x)\n",
        "\t  dup_items.add(x)\n",
        "print(dup_items)\n",
        "print(uniq_items)"
      ],
      "execution_count": null,
      "outputs": [
        {
          "output_type": "stream",
          "text": [
            "{40, 10, 80, 50, 20, 60, 30}\n",
            "[10, 20, 30, 50, 60, 40, 80]\n"
          ],
          "name": "stdout"
        }
      ]
    },
    {
      "cell_type": "markdown",
      "metadata": {
        "id": "NZv0kF9qicb6",
        "colab_type": "text"
      },
      "source": [
        "# Write a Python program to count the number of elements in a list within a specified range."
      ]
    },
    {
      "cell_type": "code",
      "metadata": {
        "id": "-lu1FpAZiif_",
        "colab_type": "code",
        "colab": {
          "base_uri": "https://localhost:8080/",
          "height": 34
        },
        "outputId": "862cd1b9-483b-481f-c8a7-9e9228f6fe3b"
      },
      "source": [
        "def count_range_in_list(li, min, max):\n",
        "\tctr = 0\n",
        "\tfor x in li:\n",
        "\t\tif min <= x <= max:\n",
        "\t\t\tctr += 1\n",
        "\treturn ctr\n",
        "\n",
        "list1 = [10,20,30,40,40,40,70,80,99]\n",
        "print(count_range_in_list(list1, 21, 100))"
      ],
      "execution_count": null,
      "outputs": [
        {
          "output_type": "stream",
          "text": [
            "7\n"
          ],
          "name": "stdout"
        }
      ]
    },
    {
      "cell_type": "markdown",
      "metadata": {
        "id": "s4zhWuBTix9u",
        "colab_type": "text"
      },
      "source": [
        "# Write a Python script to merge two Python dictionaries"
      ]
    },
    {
      "cell_type": "code",
      "metadata": {
        "id": "QOuZ6U_Xi1cm",
        "colab_type": "code",
        "colab": {
          "base_uri": "https://localhost:8080/",
          "height": 34
        },
        "outputId": "1d8e9dfe-156c-4cd8-bb48-02afba52cd13"
      },
      "source": [
        "d1 = {'a': 100, 'b': 200}\n",
        "d2 = {'x': 300, 'y': 200}\n",
        "d = d1.copy()\n",
        "d.update(d2)\n",
        "print(d)"
      ],
      "execution_count": null,
      "outputs": [
        {
          "output_type": "stream",
          "text": [
            "{'a': 100, 'b': 200, 'x': 300, 'y': 200}\n"
          ],
          "name": "stdout"
        }
      ]
    },
    {
      "cell_type": "markdown",
      "metadata": {
        "id": "2xMFvqHFi5fj",
        "colab_type": "text"
      },
      "source": [
        "# Write a Python program to find the highest 3 values in a dictionary"
      ]
    },
    {
      "cell_type": "code",
      "metadata": {
        "id": "-yMM18_ki-If",
        "colab_type": "code",
        "colab": {
          "base_uri": "https://localhost:8080/",
          "height": 68
        },
        "outputId": "8844bcd8-dbd8-48e3-9593-ae2f8d1d3f88"
      },
      "source": [
        "from heapq import nlargest\n",
        "my_dict = {'a':500, 'b':5874, 'c': 560,'d':400, 'e':5874, 'f': 20}  \n",
        "ThreeHighest = nlargest(3, my_dict, key=my_dict.get)\n",
        "for val in ThreeHighest: \n",
        "    print(val, \":\", my_dict.get(val))"
      ],
      "execution_count": null,
      "outputs": [
        {
          "output_type": "stream",
          "text": [
            "b : 5874\n",
            "e : 5874\n",
            "c : 560\n"
          ],
          "name": "stdout"
        }
      ]
    },
    {
      "cell_type": "markdown",
      "metadata": {
        "id": "x1qSsJ8NjB0f",
        "colab_type": "text"
      },
      "source": [
        "# Write a Python program to convert a tuple to a string"
      ]
    },
    {
      "cell_type": "code",
      "metadata": {
        "id": "eaCyQ_FVjOev",
        "colab_type": "code",
        "colab": {
          "base_uri": "https://localhost:8080/",
          "height": 34
        },
        "outputId": "e4180123-b244-42eb-f5a9-a88937829274"
      },
      "source": [
        "def convertTuple(tup): \n",
        "    str =  ''.join(tup) \n",
        "    return str\n",
        " \n",
        "tuple = ('h', 'e',  'l', 'l','o') \n",
        "str = convertTuple(tuple) \n",
        "print(str) "
      ],
      "execution_count": null,
      "outputs": [
        {
          "output_type": "stream",
          "text": [
            "hello\n"
          ],
          "name": "stdout"
        }
      ]
    },
    {
      "cell_type": "markdown",
      "metadata": {
        "id": "p0osu7QCjdyj",
        "colab_type": "text"
      },
      "source": [
        "# Write a Python program to reverse a tuple.\n"
      ]
    },
    {
      "cell_type": "code",
      "metadata": {
        "id": "a_ZDrPj8jg8I",
        "colab_type": "code",
        "colab": {
          "base_uri": "https://localhost:8080/",
          "height": 34
        },
        "outputId": "d3279355-9ccc-473d-fe52-62b9c7e13f5e"
      },
      "source": [
        "def Reverse(tuples): \n",
        "\tnew_tup = () \n",
        "\tfor k in reversed(tuples): \n",
        "\t\tnew_tup = new_tup + (k,) \n",
        "\tprint(new_tup) \n",
        "\n",
        "tuples = (10, 11, 12, 13, 14, 15) \n",
        "Reverse(tuples) \n"
      ],
      "execution_count": null,
      "outputs": [
        {
          "output_type": "stream",
          "text": [
            "(15, 14, 13, 12, 11, 10)\n"
          ],
          "name": "stdout"
        }
      ]
    },
    {
      "cell_type": "markdown",
      "metadata": {
        "id": "pXUS6ILPkK1Q",
        "colab_type": "text"
      },
      "source": [
        "# Write a Python program to remove existing indentation from all of the lines in a given text."
      ]
    },
    {
      "cell_type": "code",
      "metadata": {
        "id": "l8ugZftDkUHj",
        "colab_type": "code",
        "colab": {
          "base_uri": "https://localhost:8080/",
          "height": 102
        },
        "outputId": "d7bfa669-6096-4c5c-f402-b65140e3aeac"
      },
      "source": [
        "import textwrap\n",
        "sample_text = '''\n",
        "Python is a widely used high-level, general-purpose, interpreted,dynamic programming language.\n",
        "    '''\n",
        "text_without_Indentation = textwrap.dedent(sample_text)\n",
        "print()\n",
        "print(text_without_Indentation )\n",
        "print()\n"
      ],
      "execution_count": null,
      "outputs": [
        {
          "output_type": "stream",
          "text": [
            "\n",
            "\n",
            "Python is a widely used high-level, general-purpose, interpreted,dynamic programming language.\n",
            "\n",
            "\n"
          ],
          "name": "stdout"
        }
      ]
    }
  ]
}